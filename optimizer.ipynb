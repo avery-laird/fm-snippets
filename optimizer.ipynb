{
 "cells": [
  {
   "cell_type": "code",
   "id": "initial_id",
   "metadata": {
    "collapsed": true,
    "jupyter": {
     "outputs_hidden": true
    },
    "ExecuteTime": {
     "end_time": "2024-10-30T21:16:31.309892Z",
     "start_time": "2024-10-30T21:16:31.303952Z"
    }
   },
   "source": [
    "from z3 import *\n",
    "from itertools import product"
   ],
   "outputs": [],
   "execution_count": 14
  },
  {
   "cell_type": "markdown",
   "id": "24f03aafa5f74184",
   "metadata": {},
   "source": [
    "This is an example of how to use the optimizer in Z3, based on [this documentation snippet](https://www.philipzucker.com/z3-rise4fun/optimization.html).\n",
    "\n",
    "The problem to solve is placing VMs on different servers, based on (1) VM space requirement, (2) server cost, and (3) how much space each server has. In particular, the goal is to minimize:\n",
    "\n",
    "  1. The number of servers used\n",
    "  2. The operation cost\n",
    "\n",
    "Consider VM 1, VM 2, and VM 3, that need 100, 50, and 15 GB space respectively:"
   ]
  },
  {
   "cell_type": "code",
   "id": "90daf931d366da98",
   "metadata": {
    "ExecuteTime": {
     "end_time": "2024-10-30T21:16:31.343194Z",
     "start_time": "2024-10-30T21:16:31.336104Z"
    }
   },
   "source": [
    "class VM:\n",
    "    id: str\n",
    "    space_needed: int\n",
    "    def __init__(self, id: str, space_needed: int):\n",
    "        self.id = id\n",
    "        self.space_needed = space_needed\n",
    "\n",
    "VM1, VM2, VM3 = VM(\"1\", 100), VM(\"2\", 50), VM(\"3\", 15)"
   ],
   "outputs": [],
   "execution_count": 15
  },
  {
   "metadata": {},
   "cell_type": "markdown",
   "source": "Next, consider three servers that have 100, 75, and 200 GB of space respectively. They also have a daily fixed cost of \\\\$10, \\\\$5, and \\\\$20. ",
   "id": "4041bc16a61db012"
  },
  {
   "metadata": {
    "ExecuteTime": {
     "end_time": "2024-10-30T21:16:31.400957Z",
     "start_time": "2024-10-30T21:16:31.394261Z"
    }
   },
   "cell_type": "code",
   "source": [
    "class Server:\n",
    "    id: str\n",
    "    space: int\n",
    "    cost: int\n",
    "    def __init__(self, id: str, space: int, cost: int):\n",
    "        self.id = id\n",
    "        self.space = space\n",
    "        self.cost = cost\n",
    "        \n",
    "S1, S2, S3 = Server(\"1\", 100, 10), Server(\"2\", 75, 5), Server(\"3\", 200, 20)"
   ],
   "id": "37cd207e8cdd430d",
   "outputs": [],
   "execution_count": 16
  },
  {
   "metadata": {},
   "cell_type": "markdown",
   "source": "The variable $x_{ij}$ will represent that VM $i$ is placed on server $j$. The variable $y_i$ will denote that server $i$ is in use.",
   "id": "e1dcaccb4ecbd098"
  },
  {
   "metadata": {
    "ExecuteTime": {
     "end_time": "2024-10-30T21:16:31.458329Z",
     "start_time": "2024-10-30T21:16:31.451889Z"
    }
   },
   "cell_type": "code",
   "source": [
    "def place_VM(vm: VM, server: Server):\n",
    "    return Int(f\"x{vm.id}{server.id}\")\n",
    "\n",
    "def in_use(server: Server):\n",
    "    return Int(f\"y{server.id}\")"
   ],
   "id": "7cca615b9e6b5731",
   "outputs": [],
   "execution_count": 17
  },
  {
   "metadata": {},
   "cell_type": "markdown",
   "source": "Z3 uses the `Optimize` class to represent the constraint solver.",
   "id": "4383b9936ced9f92"
  },
  {
   "metadata": {
    "ExecuteTime": {
     "end_time": "2024-10-30T21:16:31.508553Z",
     "start_time": "2024-10-30T21:16:31.504694Z"
    }
   },
   "cell_type": "code",
   "source": "o = Optimize()",
   "id": "9218e826235d60d4",
   "outputs": [],
   "execution_count": 18
  },
  {
   "metadata": {},
   "cell_type": "markdown",
   "source": "The next step is to add all the constraints to the optimizer instance `o`.",
   "id": "8c1a1f3fa151d11c"
  },
  {
   "metadata": {
    "ExecuteTime": {
     "end_time": "2024-10-30T21:16:31.569242Z",
     "start_time": "2024-10-30T21:16:31.554789Z"
    }
   },
   "cell_type": "code",
   "source": [
    "# The integers representing placement and use should not be negative.\n",
    "for vm, server in product([VM1, VM2, VM3], [S1, S2, S3]):\n",
    "    o.add(place_VM(vm, server) >= 0)\n",
    "    \n",
    "# A server is either in use, or not in use.\n",
    "for server in [S1, S2, S3]:\n",
    "    o.add(in_use(server) <= 1)\n",
    "\n",
    "# VMs can only be on one server at a time\n",
    "for vm in [VM1, VM2, VM3]:\n",
    "    o.add(place_VM(vm, S1) + place_VM(vm, S2) + place_VM(vm, S3) == 1)\n",
    "    \n",
    "# placing a VM on a server makes it \"in use\"\n",
    "for server in [S1, S2, S3]:\n",
    "    o.add(And(in_use(server) >= place_VM(VM1, server), in_use(server) >= place_VM(VM2, server), in_use(server) >= place_VM(VM3, server)))"
   ],
   "id": "6cf2cb89a2c96a94",
   "outputs": [],
   "execution_count": 19
  },
  {
   "metadata": {},
   "cell_type": "markdown",
   "source": "The above are mainly physical constraints; below are the specific constraints of this problem, such as server space, server cost, and space required by each VM: ",
   "id": "3ce7cc4429d8e733"
  },
  {
   "metadata": {
    "ExecuteTime": {
     "end_time": "2024-10-30T21:16:31.620786Z",
     "start_time": "2024-10-30T21:16:31.611862Z"
    }
   },
   "cell_type": "code",
   "source": [
    "for server in [S1, S2, S3]:\n",
    "    o.add(Sum([vm.space_needed * place_VM(vm, server) for vm in [VM1, VM2, VM3]]) <= server.space * in_use(server))"
   ],
   "id": "fc9902ffb9d35340",
   "outputs": [],
   "execution_count": 20
  },
  {
   "metadata": {},
   "cell_type": "markdown",
   "source": "For this specific problem, the loop above unrolls into the below constraints:",
   "id": "9f564d0ee23787d4"
  },
  {
   "metadata": {
    "ExecuteTime": {
     "end_time": "2024-10-30T21:16:31.670025Z",
     "start_time": "2024-10-30T21:16:31.665043Z"
    }
   },
   "cell_type": "code",
   "source": [
    "# VM1 needs 100 GB, VM2 needs 50 GB, VM3 needs 15GB\n",
    "# server 1 has 100 GB of disk space: 100*place_VM(1, 1) + 50*place_VM(2, 1) + 15*place_VM(3, 1) <= 100*in_use(1)\n",
    "# server 2 has 75 GB: 100*place_VM(1, 2) + 50*place_VM(2, 2) + 15*place_VM(3, 2) <= 75*in_use(2)\n",
    "# server 3 has 200 GB: 100*place_VM(1, 3) + 50*place_VM(2, 3) + 15*place_VM(3, 3) <= 200*in_use(3)"
   ],
   "id": "d2169c3e1a56b83a",
   "outputs": [],
   "execution_count": 21
  },
  {
   "metadata": {},
   "cell_type": "markdown",
   "source": "Finally, there are two minimization goals in this problem: (1) number of servers, and (2) cost.",
   "id": "83c216ae0f607f83"
  },
  {
   "metadata": {
    "ExecuteTime": {
     "end_time": "2024-10-30T21:16:31.730303Z",
     "start_time": "2024-10-30T21:16:31.721132Z"
    }
   },
   "cell_type": "code",
   "source": [
    "# minimize number of servers used\n",
    "o.minimize(in_use(S1) + in_use(S2) + in_use(S3))\n",
    "\n",
    "# minimize operation cost\n",
    "o.minimize(S1.cost*in_use(S1) + S2.cost*in_use(S2) + S3.cost*in_use(S3))"
   ],
   "id": "d643f4d79fc34de8",
   "outputs": [
    {
     "data": {
      "text/plain": [
       "<z3.z3.OptimizeObjective at 0x7d11b25ef4a0>"
      ]
     },
     "execution_count": 22,
     "metadata": {},
     "output_type": "execute_result"
    }
   ],
   "execution_count": 22
  },
  {
   "metadata": {},
   "cell_type": "markdown",
   "source": [
    "To obtain a solution, `check` needs to be called first. This will be either `sat` or `unsat`. Most of the time `sat` is expected, but the result might be `unsat` if there is no solution to the problem under the given constraints. \n",
    "Then, the solution can be obtained using `model`:"
   ],
   "id": "aa87274a5a9e4e1b"
  },
  {
   "metadata": {
    "ExecuteTime": {
     "end_time": "2024-10-30T21:16:31.857055Z",
     "start_time": "2024-10-30T21:16:31.844540Z"
    }
   },
   "cell_type": "code",
   "source": [
    "o.check()\n",
    "[(s, o.model()[s]) for s in o.model()]"
   ],
   "id": "8df229b8716457ca",
   "outputs": [
    {
     "data": {
      "text/plain": [
       "[(x33, 1),\n",
       " (x13, 1),\n",
       " (y2, 0),\n",
       " (y3, 1),\n",
       " (y1, 0),\n",
       " (x32, 0),\n",
       " (x22, 0),\n",
       " (x12, 0),\n",
       " (x23, 1),\n",
       " (x31, 0),\n",
       " (x21, 0),\n",
       " (x11, 0)]"
      ]
     },
     "execution_count": 23,
     "metadata": {},
     "output_type": "execute_result"
    }
   ],
   "execution_count": 23
  },
  {
   "metadata": {},
   "cell_type": "markdown",
   "source": "The code below maps the variables back to VM server assignments:",
   "id": "4d88d84033d0e99e"
  },
  {
   "metadata": {
    "ExecuteTime": {
     "end_time": "2024-10-30T21:16:31.995483Z",
     "start_time": "2024-10-30T21:16:31.982709Z"
    }
   },
   "cell_type": "code",
   "source": [
    "for sol in o.model():\n",
    "    if o.model()[sol] == 1:\n",
    "        if len(sol.name()) == 3:\n",
    "            print(f\"allocate VM {sol.name()[1]} on server {sol.name()[2]}\")"
   ],
   "id": "416e32e1dd69ca36",
   "outputs": [
    {
     "name": "stdout",
     "output_type": "stream",
     "text": [
      "allocate VM 3 on server 3\n",
      "allocate VM 1 on server 3\n",
      "allocate VM 2 on server 3\n"
     ]
    }
   ],
   "execution_count": 24
  },
  {
   "metadata": {},
   "cell_type": "markdown",
   "source": "Even though server 3 is the most expensive (\\\\$20), it has enough space to host all VMs (`100 + 50 + 15 = 165 < 200`). Two instances of S1 wouldn't be any cheaper, since it has a cost of \\\\$10. It would be cheaper to have server 1 and server 2, or, three instances of server 2; however, that doesn't minimize the total number of servers enough, such that the reduced cost justifies more servers.",
   "id": "3e561c43bf9d3ace"
  }
 ],
 "metadata": {
  "kernelspec": {
   "display_name": "Python 3 (ipykernel)",
   "language": "python",
   "name": "python3"
  },
  "language_info": {
   "codemirror_mode": {
    "name": "ipython",
    "version": 3
   },
   "file_extension": ".py",
   "mimetype": "text/x-python",
   "name": "python",
   "nbconvert_exporter": "python",
   "pygments_lexer": "ipython3",
   "version": "3.12.7"
  }
 },
 "nbformat": 4,
 "nbformat_minor": 5
}
